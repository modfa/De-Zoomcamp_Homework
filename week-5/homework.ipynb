{
 "cells": [
  {
   "cell_type": "code",
   "execution_count": 60,
   "id": "f827ac72",
   "metadata": {},
   "outputs": [],
   "source": [
    "import pyspark\n",
    "from pyspark.sql import SparkSession"
   ]
  },
  {
   "cell_type": "code",
   "execution_count": 61,
   "id": "243d62cd",
   "metadata": {},
   "outputs": [
    {
     "data": {
      "text/plain": [
       "'3.3.2'"
      ]
     },
     "execution_count": 61,
     "metadata": {},
     "output_type": "execute_result"
    }
   ],
   "source": [
    "pyspark.__version__"
   ]
  },
  {
   "cell_type": "code",
   "execution_count": 62,
   "id": "e59843f3",
   "metadata": {},
   "outputs": [],
   "source": [
    "spark = SparkSession.builder \\\n",
    "    .master(\"local[*]\") \\\n",
    "    .appName('test') \\\n",
    "    .getOrCreate()"
   ]
  },
  {
   "cell_type": "code",
   "execution_count": 63,
   "id": "dab2ec6c",
   "metadata": {},
   "outputs": [],
   "source": [
    "df = spark.read \\\n",
    "     .option(\"header\", \"true\") \\\n",
    "     .csv('fhvhv_tripdata_2021-06.csv')"
   ]
  },
  {
   "cell_type": "code",
   "execution_count": 64,
   "id": "bca3c232",
   "metadata": {},
   "outputs": [
    {
     "data": {
      "text/plain": [
       "[Row(dispatching_base_num='B02764', pickup_datetime='2021-06-01 00:02:41', dropoff_datetime='2021-06-01 00:07:46', PULocationID='174', DOLocationID='18', SR_Flag='N', Affiliated_base_number='B02764'),\n",
       " Row(dispatching_base_num='B02764', pickup_datetime='2021-06-01 00:16:16', dropoff_datetime='2021-06-01 00:21:14', PULocationID='32', DOLocationID='254', SR_Flag='N', Affiliated_base_number='B02764'),\n",
       " Row(dispatching_base_num='B02764', pickup_datetime='2021-06-01 00:27:01', dropoff_datetime='2021-06-01 00:42:11', PULocationID='240', DOLocationID='127', SR_Flag='N', Affiliated_base_number='B02764'),\n",
       " Row(dispatching_base_num='B02764', pickup_datetime='2021-06-01 00:46:08', dropoff_datetime='2021-06-01 00:53:45', PULocationID='127', DOLocationID='235', SR_Flag='N', Affiliated_base_number='B02764'),\n",
       " Row(dispatching_base_num='B02510', pickup_datetime='2021-06-01 00:45:42', dropoff_datetime='2021-06-01 01:03:33', PULocationID='144', DOLocationID='146', SR_Flag='N', Affiliated_base_number=None)]"
      ]
     },
     "execution_count": 64,
     "metadata": {},
     "output_type": "execute_result"
    }
   ],
   "source": [
    "df.head(5)"
   ]
  },
  {
   "cell_type": "code",
   "execution_count": 65,
   "id": "7c5e958a",
   "metadata": {},
   "outputs": [
    {
     "data": {
      "text/plain": [
       "StructType([StructField('dispatching_base_num', StringType(), True), StructField('pickup_datetime', StringType(), True), StructField('dropoff_datetime', StringType(), True), StructField('PULocationID', StringType(), True), StructField('DOLocationID', StringType(), True), StructField('SR_Flag', StringType(), True), StructField('Affiliated_base_number', StringType(), True)])"
      ]
     },
     "execution_count": 65,
     "metadata": {},
     "output_type": "execute_result"
    }
   ],
   "source": [
    "df.schema"
   ]
  },
  {
   "cell_type": "code",
   "execution_count": 66,
   "id": "acb5e4b7",
   "metadata": {},
   "outputs": [],
   "source": [
    "!head -n 1001 fhvhv_tripdata_2021-06.csv > head.csv"
   ]
  },
  {
   "cell_type": "code",
   "execution_count": 67,
   "id": "701c475a",
   "metadata": {},
   "outputs": [
    {
     "name": "stdout",
     "output_type": "stream",
     "text": [
      "1001 head.csv\r\n"
     ]
    }
   ],
   "source": [
    "!wc -l head.csv"
   ]
  },
  {
   "cell_type": "code",
   "execution_count": 68,
   "id": "e69cba66",
   "metadata": {},
   "outputs": [],
   "source": [
    "import pandas as pd"
   ]
  },
  {
   "cell_type": "code",
   "execution_count": 69,
   "id": "92273bb6",
   "metadata": {},
   "outputs": [],
   "source": [
    "df_pandas = pd.read_csv('head.csv' ,usecols=['dispatching_base_num', 'pickup_datetime','dropoff_datetime', 'PULocationID', 'DOLocationID','SR_Flag'  ])"
   ]
  },
  {
   "cell_type": "code",
   "execution_count": 70,
   "id": "d8fb1298",
   "metadata": {},
   "outputs": [
    {
     "data": {
      "text/plain": [
       "dispatching_base_num    object\n",
       "pickup_datetime         object\n",
       "dropoff_datetime        object\n",
       "PULocationID             int64\n",
       "DOLocationID             int64\n",
       "SR_Flag                 object\n",
       "dtype: object"
      ]
     },
     "execution_count": 70,
     "metadata": {},
     "output_type": "execute_result"
    }
   ],
   "source": [
    "df_pandas.dtypes"
   ]
  },
  {
   "cell_type": "code",
   "execution_count": 71,
   "id": "5e3b94e9",
   "metadata": {},
   "outputs": [
    {
     "name": "stderr",
     "output_type": "stream",
     "text": [
      "/home/modf/spark/spark-3.3.2-bin-hadoop3/python/pyspark/sql/pandas/conversion.py:474: FutureWarning: iteritems is deprecated and will be removed in a future version. Use .items instead.\n",
      "  for column, series in pdf.iteritems():\n",
      "/home/modf/spark/spark-3.3.2-bin-hadoop3/python/pyspark/sql/pandas/conversion.py:486: FutureWarning: iteritems is deprecated and will be removed in a future version. Use .items instead.\n",
      "  for column, series in pdf.iteritems():\n"
     ]
    },
    {
     "data": {
      "text/plain": [
       "StructType([StructField('dispatching_base_num', StringType(), True), StructField('pickup_datetime', StringType(), True), StructField('dropoff_datetime', StringType(), True), StructField('PULocationID', LongType(), True), StructField('DOLocationID', LongType(), True), StructField('SR_Flag', StringType(), True)])"
      ]
     },
     "execution_count": 71,
     "metadata": {},
     "output_type": "execute_result"
    }
   ],
   "source": [
    "spark.createDataFrame(df_pandas).schema"
   ]
  },
  {
   "cell_type": "code",
   "execution_count": 72,
   "id": "ee888583",
   "metadata": {},
   "outputs": [],
   "source": [
    "from pyspark.sql import types"
   ]
  },
  {
   "cell_type": "code",
   "execution_count": 73,
   "id": "e4390302",
   "metadata": {},
   "outputs": [],
   "source": [
    "schema = types.StructType([\n",
    "    types.StructField('dispatching_base_num', types.StringType(), True),\n",
    "    types.StructField('pickup_datetime', types.TimestampType(), True),\n",
    "    types.StructField('dropoff_datetime', types.TimestampType(), True),\n",
    "    types.StructField('PULocationID', types.IntegerType(), True),\n",
    "    types.StructField('DOLocationID', types.IntegerType(), True),\n",
    "    types.StructField('SR_Flag', types.StringType(), True)\n",
    "])"
   ]
  },
  {
   "cell_type": "code",
   "execution_count": 74,
   "id": "1e03d280",
   "metadata": {},
   "outputs": [],
   "source": [
    "df = spark.read \\\n",
    "    .option(\"header\", \"true\") \\\n",
    "    .schema(schema) \\\n",
    "    .csv('fhvhv_tripdata_2021-06.csv')\n"
   ]
  },
  {
   "cell_type": "code",
   "execution_count": 75,
   "id": "3ed7ad86",
   "metadata": {},
   "outputs": [
    {
     "name": "stdout",
     "output_type": "stream",
     "text": [
      "23/03/09 16:22:53 WARN CSVHeaderChecker: Number of column in CSV header is not equal to number of fields in the schema:\n",
      " Header length: 7, schema size: 6\n",
      "CSV file: file:///home/modf/wk-5/homework/fhvhv_tripdata_2021-06.csv\n"
     ]
    },
    {
     "data": {
      "text/plain": [
       "[Row(dispatching_base_num='B02764', pickup_datetime=datetime.datetime(2021, 6, 1, 0, 2, 41), dropoff_datetime=datetime.datetime(2021, 6, 1, 0, 7, 46), PULocationID=174, DOLocationID=18, SR_Flag='N'),\n",
       " Row(dispatching_base_num='B02764', pickup_datetime=datetime.datetime(2021, 6, 1, 0, 16, 16), dropoff_datetime=datetime.datetime(2021, 6, 1, 0, 21, 14), PULocationID=32, DOLocationID=254, SR_Flag='N'),\n",
       " Row(dispatching_base_num='B02764', pickup_datetime=datetime.datetime(2021, 6, 1, 0, 27, 1), dropoff_datetime=datetime.datetime(2021, 6, 1, 0, 42, 11), PULocationID=240, DOLocationID=127, SR_Flag='N'),\n",
       " Row(dispatching_base_num='B02764', pickup_datetime=datetime.datetime(2021, 6, 1, 0, 46, 8), dropoff_datetime=datetime.datetime(2021, 6, 1, 0, 53, 45), PULocationID=127, DOLocationID=235, SR_Flag='N'),\n",
       " Row(dispatching_base_num='B02510', pickup_datetime=datetime.datetime(2021, 6, 1, 0, 45, 42), dropoff_datetime=datetime.datetime(2021, 6, 1, 1, 3, 33), PULocationID=144, DOLocationID=146, SR_Flag='N')]"
      ]
     },
     "execution_count": 75,
     "metadata": {},
     "output_type": "execute_result"
    }
   ],
   "source": [
    "df.head(5)"
   ]
  },
  {
   "cell_type": "code",
   "execution_count": 76,
   "id": "e8d6c844",
   "metadata": {},
   "outputs": [],
   "source": [
    "df = df.repartition(12)"
   ]
  },
  {
   "cell_type": "code",
   "execution_count": null,
   "id": "0f1ae06e",
   "metadata": {},
   "outputs": [],
   "source": [
    "df.write.parquet('fhvhv/2021/06/')"
   ]
  },
  {
   "cell_type": "code",
   "execution_count": 78,
   "id": "62657c36",
   "metadata": {},
   "outputs": [
    {
     "name": "stdout",
     "output_type": "stream",
     "text": [
      "total 261M\r\n",
      "-rw-r--r-- 1 modf modf   0 Mar  9 14:43 _SUCCESS\r\n",
      "-rw-r--r-- 1 modf modf 22M Mar  9 14:43 part-00000-5ba47d50-8f8c-4fe1-a64b-9450de048cc2-c000.snappy.parquet\r\n",
      "-rw-r--r-- 1 modf modf 22M Mar  9 14:43 part-00001-5ba47d50-8f8c-4fe1-a64b-9450de048cc2-c000.snappy.parquet\r\n",
      "-rw-r--r-- 1 modf modf 22M Mar  9 14:43 part-00002-5ba47d50-8f8c-4fe1-a64b-9450de048cc2-c000.snappy.parquet\r\n",
      "-rw-r--r-- 1 modf modf 22M Mar  9 14:43 part-00003-5ba47d50-8f8c-4fe1-a64b-9450de048cc2-c000.snappy.parquet\r\n",
      "-rw-r--r-- 1 modf modf 22M Mar  9 14:43 part-00004-5ba47d50-8f8c-4fe1-a64b-9450de048cc2-c000.snappy.parquet\r\n",
      "-rw-r--r-- 1 modf modf 22M Mar  9 14:43 part-00005-5ba47d50-8f8c-4fe1-a64b-9450de048cc2-c000.snappy.parquet\r\n",
      "-rw-r--r-- 1 modf modf 22M Mar  9 14:43 part-00006-5ba47d50-8f8c-4fe1-a64b-9450de048cc2-c000.snappy.parquet\r\n",
      "-rw-r--r-- 1 modf modf 22M Mar  9 14:43 part-00007-5ba47d50-8f8c-4fe1-a64b-9450de048cc2-c000.snappy.parquet\r\n",
      "-rw-r--r-- 1 modf modf 22M Mar  9 14:43 part-00008-5ba47d50-8f8c-4fe1-a64b-9450de048cc2-c000.snappy.parquet\r\n",
      "-rw-r--r-- 1 modf modf 22M Mar  9 14:43 part-00009-5ba47d50-8f8c-4fe1-a64b-9450de048cc2-c000.snappy.parquet\r\n",
      "-rw-r--r-- 1 modf modf 22M Mar  9 14:43 part-00010-5ba47d50-8f8c-4fe1-a64b-9450de048cc2-c000.snappy.parquet\r\n",
      "-rw-r--r-- 1 modf modf 22M Mar  9 14:43 part-00011-5ba47d50-8f8c-4fe1-a64b-9450de048cc2-c000.snappy.parquet\r\n"
     ]
    }
   ],
   "source": [
    "!ls -lh fhvhv/2021/06/"
   ]
  },
  {
   "cell_type": "code",
   "execution_count": 20,
   "id": "2a366862",
   "metadata": {},
   "outputs": [],
   "source": [
    "df = spark.read.parquet('fhvhv/2021/06/')"
   ]
  },
  {
   "cell_type": "code",
   "execution_count": 79,
   "id": "d16319a7",
   "metadata": {},
   "outputs": [
    {
     "name": "stdout",
     "output_type": "stream",
     "text": [
      "root\n",
      " |-- dispatching_base_num: string (nullable = true)\n",
      " |-- pickup_datetime: timestamp (nullable = true)\n",
      " |-- dropoff_datetime: timestamp (nullable = true)\n",
      " |-- PULocationID: integer (nullable = true)\n",
      " |-- DOLocationID: integer (nullable = true)\n",
      " |-- SR_Flag: string (nullable = true)\n",
      "\n"
     ]
    }
   ],
   "source": [
    "df.printSchema()"
   ]
  },
  {
   "cell_type": "code",
   "execution_count": 80,
   "id": "ebba46ee",
   "metadata": {},
   "outputs": [],
   "source": [
    "from pyspark.sql import functions as F"
   ]
  },
  {
   "cell_type": "code",
   "execution_count": 83,
   "id": "398acd3c",
   "metadata": {},
   "outputs": [
    {
     "name": "stderr",
     "output_type": "stream",
     "text": [
      "[Stage 26:=================================================>        (6 + 1) / 7]\r"
     ]
    },
    {
     "name": "stdout",
     "output_type": "stream",
     "text": [
      "+-----------+------------+\n",
      "|pickup_date|dropoff_date|\n",
      "+-----------+------------+\n",
      "| 2021-06-03|  2021-06-03|\n",
      "| 2021-06-04|  2021-06-04|\n",
      "| 2021-06-03|  2021-06-03|\n",
      "| 2021-06-02|  2021-06-02|\n",
      "| 2021-06-03|  2021-06-03|\n",
      "| 2021-06-04|  2021-06-04|\n",
      "| 2021-06-03|  2021-06-03|\n",
      "| 2021-06-05|  2021-06-05|\n",
      "| 2021-06-03|  2021-06-03|\n",
      "| 2021-06-02|  2021-06-02|\n",
      "| 2021-06-02|  2021-06-02|\n",
      "| 2021-06-04|  2021-06-04|\n",
      "| 2021-06-02|  2021-06-02|\n",
      "| 2021-06-03|  2021-06-03|\n",
      "| 2021-06-01|  2021-06-01|\n",
      "| 2021-06-05|  2021-06-05|\n",
      "| 2021-06-01|  2021-06-01|\n",
      "| 2021-06-05|  2021-06-05|\n",
      "| 2021-06-05|  2021-06-05|\n",
      "| 2021-06-01|  2021-06-01|\n",
      "+-----------+------------+\n",
      "only showing top 20 rows\n",
      "\n"
     ]
    },
    {
     "name": "stderr",
     "output_type": "stream",
     "text": [
      "\r",
      "                                                                                \r"
     ]
    }
   ],
   "source": [
    "df \\\n",
    "    .withColumn('pickup_date', F.to_date(df.pickup_datetime)) \\\n",
    "    .withColumn('dropoff_date', F.to_date(df.dropoff_datetime)) \\\n",
    "    .select('pickup_date','dropoff_date') \\\n",
    "    .show()"
   ]
  },
  {
   "cell_type": "code",
   "execution_count": 99,
   "id": "9a9533e2",
   "metadata": {},
   "outputs": [
    {
     "name": "stderr",
     "output_type": "stream",
     "text": [
      "                                                                                \r"
     ]
    },
    {
     "data": {
      "text/plain": [
       "452470"
      ]
     },
     "execution_count": 99,
     "metadata": {},
     "output_type": "execute_result"
    }
   ],
   "source": [
    "df.filter(F.to_date((df.pickup_datetime)) == F.lit(\"2021-06-15\")).count()"
   ]
  },
  {
   "cell_type": "code",
   "execution_count": null,
   "id": "cce391f8",
   "metadata": {},
   "outputs": [],
   "source": []
  },
  {
   "cell_type": "code",
   "execution_count": null,
   "id": "fdf02389",
   "metadata": {},
   "outputs": [],
   "source": []
  }
 ],
 "metadata": {
  "kernelspec": {
   "display_name": "Python 3 (ipykernel)",
   "language": "python",
   "name": "python3"
  },
  "language_info": {
   "codemirror_mode": {
    "name": "ipython",
    "version": 3
   },
   "file_extension": ".py",
   "mimetype": "text/x-python",
   "name": "python",
   "nbconvert_exporter": "python",
   "pygments_lexer": "ipython3",
   "version": "3.9.16"
  }
 },
 "nbformat": 4,
 "nbformat_minor": 5
}
